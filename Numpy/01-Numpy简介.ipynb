{
 "cells": [
  {
   "cell_type": "markdown",
   "source": [
    "## Numpy简介"
   ],
   "metadata": {
    "collapsed": false
   },
   "id": "cc4907ec42508829"
  },
  {
   "cell_type": "markdown",
   "source": [
    "### 1. Numpy基本属性"
   ],
   "metadata": {
    "collapsed": false
   },
   "id": "af518dd15d03a4d8"
  },
  {
   "cell_type": "code",
   "execution_count": 2,
   "outputs": [],
   "source": [
    "import numpy as np"
   ],
   "metadata": {
    "collapsed": false,
    "ExecuteTime": {
     "end_time": "2023-08-22T01:59:14.277062800Z",
     "start_time": "2023-08-22T01:59:14.274317800Z"
    }
   },
   "id": "d7413d4a5b9bb25c"
  },
  {
   "cell_type": "code",
   "execution_count": 18,
   "outputs": [
    {
     "name": "stdout",
     "output_type": "stream",
     "text": [
      "[ 0  1  2  3  4  5  6  7  8  9 10 11 12 13 14]\n"
     ]
    }
   ],
   "source": [
    "# 利用np.arange()创建一个包含15个元素的Numpy数组对象\n",
    "arr = np.arange(15)\n",
    "print(arr)"
   ],
   "metadata": {
    "collapsed": false,
    "ExecuteTime": {
     "end_time": "2023-08-22T02:13:28.112040800Z",
     "start_time": "2023-08-22T02:13:28.084875Z"
    }
   },
   "id": "87f3123f393e5822"
  },
  {
   "cell_type": "code",
   "execution_count": 17,
   "outputs": [
    {
     "name": "stdout",
     "output_type": "stream",
     "text": [
      "[ 0  1  2  3  4  5  6  7  8  9 10 11 12 13 14]\n",
      "[[ 0  1  2  3  4]\n",
      " [ 5  6  7  8  9]\n",
      " [10 11 12 13 14]]\n"
     ]
    }
   ],
   "source": [
    "# 使用reshape()方法更改Numpy数组对象的形状\n",
    "# 将一维数组更改为二维数组，三行五列\n",
    "arr2 = arr.reshape((3,5))\n",
    "print(arr)\n",
    "print(arr2)"
   ],
   "metadata": {
    "collapsed": false,
    "ExecuteTime": {
     "end_time": "2023-08-22T02:13:16.995552Z",
     "start_time": "2023-08-22T02:13:16.979637200Z"
    }
   },
   "id": "6e92040c6ffc6ebf"
  },
  {
   "cell_type": "code",
   "execution_count": 24,
   "outputs": [
    {
     "name": "stdout",
     "output_type": "stream",
     "text": [
      "arr2的形状：\t (3, 5)\n",
      "arr2的维度：\t 2\n",
      "arr2元素类型：\t int32\n",
      "arr2元素大小：\t 4\n",
      "arr2元素个数：\t 15\n",
      "arr2的类型：\t <class 'numpy.ndarray'>\n"
     ]
    }
   ],
   "source": [
    "print(\"arr2的形状：\\t\",arr2.shape)\n",
    "print(\"arr2的维度：\\t\",arr2.ndim)\n",
    "print(\"arr2元素类型：\\t\",arr2.dtype)\n",
    "print(\"arr2元素大小：\\t\",arr2.itemsize)\n",
    "print(\"arr2元素个数：\\t\",arr2.size)\n",
    "print(\"arr2的类型：\\t\",type(arr2))"
   ],
   "metadata": {
    "collapsed": false,
    "ExecuteTime": {
     "end_time": "2023-08-22T02:18:01.825968300Z",
     "start_time": "2023-08-22T02:18:01.796066600Z"
    }
   },
   "id": "26304cd04476438b"
  },
  {
   "cell_type": "markdown",
   "source": [
    "### 2. Ndarray的创建"
   ],
   "metadata": {
    "collapsed": false
   },
   "id": "db4254076f87088d"
  },
  {
   "cell_type": "code",
   "execution_count": 28,
   "outputs": [
    {
     "name": "stdout",
     "output_type": "stream",
     "text": [
      "[1 2 3 4 5]\n",
      "int32\n",
      "(5,)\n",
      "<class 'numpy.ndarray'>\n"
     ]
    }
   ],
   "source": [
    "# array\n",
    "# 使用array()函数创建一个一维的Ndarray对象\n",
    "arr = np.array([1,2,3,4,5]) \n",
    "print(arr)\n",
    "print(arr.dtype)\n",
    "print(arr.shape)\n",
    "print(type(arr))"
   ],
   "metadata": {
    "collapsed": false,
    "ExecuteTime": {
     "end_time": "2023-08-22T02:22:27.532470100Z",
     "start_time": "2023-08-22T02:22:27.491246700Z"
    }
   },
   "id": "e5e028b0b4da44a6"
  },
  {
   "cell_type": "code",
   "execution_count": 30,
   "outputs": [
    {
     "name": "stdout",
     "output_type": "stream",
     "text": [
      "[[1 2]\n",
      " [3 4]]\n",
      "int32\n",
      "(2, 2)\n",
      "<class 'numpy.ndarray'>\n"
     ]
    }
   ],
   "source": [
    "# 使用array()函数创建一个二位的Ndarray对象\n",
    "arr2 = np.array([[1,2],[3,4]])\n",
    "print(arr2)\n",
    "print(arr2.dtype)\n",
    "print(arr2.shape)\n",
    "print(type(arr2))"
   ],
   "metadata": {
    "collapsed": false,
    "ExecuteTime": {
     "end_time": "2023-08-22T02:23:06.134534Z",
     "start_time": "2023-08-22T02:23:06.081792100Z"
    }
   },
   "id": "33672cd8c24bf80e"
  },
  {
   "cell_type": "code",
   "execution_count": 36,
   "outputs": [
    {
     "name": "stdout",
     "output_type": "stream",
     "text": [
      "[[0. 0. 0. 0.]\n",
      " [0. 0. 0. 0.]\n",
      " [0. 0. 0. 0.]]\n",
      "(3, 4)\n",
      "float64\n",
      "[[1. 1. 1. 1.]\n",
      " [1. 1. 1. 1.]\n",
      " [1. 1. 1. 1.]]\n",
      "(3, 4)\n",
      "float64\n",
      "[[1. 1. 1. 1.]\n",
      " [1. 1. 1. 1.]\n",
      " [1. 1. 1. 1.]]\n",
      "(3, 4)\n",
      "float64\n"
     ]
    }
   ],
   "source": [
    "# zeros/ones/empty\n",
    "# 创建一个三行四列的二位Ndarray对象，并用0填充\n",
    "arr = np.zeros((3,4))\n",
    "print(arr)\n",
    "print(arr.shape)\n",
    "print(arr.dtype)\n",
    "\n",
    "# 创建一个三行四列的Ndarray对象，并用1填充\n",
    "arr2 = np.ones((3,4))\n",
    "print(arr2)\n",
    "print(arr2.shape)\n",
    "print(arr2.dtype)\n",
    "\n",
    "# 创建一个三行四列的Ndarray对象，不做填充\n",
    "arr3 = np.empty((3,4))\n",
    "print(arr3)\n",
    "print(arr3.shape)\n",
    "print(arr3.dtype)"
   ],
   "metadata": {
    "collapsed": false,
    "ExecuteTime": {
     "end_time": "2023-08-22T02:27:43.872613100Z",
     "start_time": "2023-08-22T02:27:43.856635300Z"
    }
   },
   "id": "ef7311f82efcea79"
  },
  {
   "cell_type": "code",
   "execution_count": 41,
   "outputs": [
    {
     "name": "stdout",
     "output_type": "stream",
     "text": [
      "[ 0  5 10 15]\n",
      "int32\n",
      "<class 'numpy.ndarray'>\n"
     ]
    }
   ],
   "source": [
    "# arange(start,stop,step)\n",
    "\n",
    "# 创建一个区间为[0,20)步长为5的Ndarray一维对象\n",
    "arr = np.arange(0,20,5,dtype=int)\n",
    "print(arr)\n",
    "print(arr.dtype)\n",
    "print(type(arr))"
   ],
   "metadata": {
    "collapsed": false,
    "ExecuteTime": {
     "end_time": "2023-08-22T02:31:24.604840400Z",
     "start_time": "2023-08-22T02:31:24.579071600Z"
    }
   },
   "id": "6f802a8fcb3228fe"
  },
  {
   "cell_type": "code",
   "execution_count": 44,
   "outputs": [
    {
     "name": "stdout",
     "output_type": "stream",
     "text": [
      "[[1 2]\n",
      " [3 4]]\n",
      "[[1 2]\n",
      " [3 4]]\n"
     ]
    }
   ],
   "source": [
    "# mat\n",
    "# 利用mat将字符串形式的数据转为Ndarray对象\n",
    "arr = np.mat('1 2;3 4')\n",
    "print(arr)\n",
    "\n",
    "arr2 = np.mat('1,2;3,4')\n",
    "print(arr2)"
   ],
   "metadata": {
    "collapsed": false,
    "ExecuteTime": {
     "end_time": "2023-08-22T02:33:33.811455800Z",
     "start_time": "2023-08-22T02:33:33.800448100Z"
    }
   },
   "id": "edae0fc55c000fb6"
  },
  {
   "cell_type": "code",
   "execution_count": 47,
   "outputs": [
    {
     "name": "stdout",
     "output_type": "stream",
     "text": [
      "[[1 2 3]\n",
      " [3 4 5]]\n"
     ]
    }
   ],
   "source": [
    "# matrix\n",
    "# 利用matrix将列表转为Ndarray对象\n",
    "arr = np.matrix([[1,2,3],[3,4,5]])\n",
    "print(arr)\n",
    "\n",
    "# ! 注意，matrix方法只能转换二维数组\n",
    "# arr2 = np.matrix([[[1,2],[3,4]],[[1,2],[3,4]]])\n",
    "# print(arr2)"
   ],
   "metadata": {
    "collapsed": false,
    "ExecuteTime": {
     "end_time": "2023-08-22T02:36:04.042806900Z",
     "start_time": "2023-08-22T02:36:04.013155600Z"
    }
   },
   "id": "2fffced8e20288b8"
  },
  {
   "cell_type": "code",
   "execution_count": 50,
   "outputs": [
    {
     "name": "stdout",
     "output_type": "stream",
     "text": [
      "[[[0.21940839 0.48251774 0.73357573 0.83631398]\n",
      "  [0.05431324 0.8719793  0.36038504 0.65467463]\n",
      "  [0.58193484 0.72776255 0.06402132 0.57276734]]\n",
      "\n",
      " [[0.89329744 0.90340171 0.20673328 0.20357587]\n",
      "  [0.41006172 0.13206985 0.88299633 0.78372155]\n",
      "  [0.43124691 0.34244934 0.82276054 0.32483358]]]\n"
     ]
    }
   ],
   "source": [
    "# random.rand(d0, d1, d2, ...)\n",
    "# 利用random.rand()方法创建一个三维数组，数组元素区间为[0,1]\n",
    "arr = np.random.rand(2,3,4)\n",
    "print(arr)"
   ],
   "metadata": {
    "collapsed": false,
    "ExecuteTime": {
     "end_time": "2023-08-22T02:39:11.551162700Z",
     "start_time": "2023-08-22T02:39:11.534729500Z"
    }
   },
   "id": "a22bf987e9dea37"
  },
  {
   "cell_type": "code",
   "execution_count": 52,
   "outputs": [
    {
     "name": "stdout",
     "output_type": "stream",
     "text": [
      "[[ 1  3  2 -4]\n",
      " [ 3  2  0 -4]\n",
      " [ 0 -5 -5  0]]\n"
     ]
    }
   ],
   "source": [
    "# random.randint(low,high,size)\n",
    "# 使用random.randint创建一个取值范围在[-5,5]之间，尺寸为（3，4）的Ndarray对象\n",
    "arr = np.random.randint(-5,5,size=(3,4))\n",
    "print(arr)"
   ],
   "metadata": {
    "collapsed": false,
    "ExecuteTime": {
     "end_time": "2023-08-22T02:41:37.459943900Z",
     "start_time": "2023-08-22T02:41:37.425776100Z"
    }
   },
   "id": "fa694f520bfdddde"
  },
  {
   "cell_type": "code",
   "execution_count": 54,
   "outputs": [
    {
     "name": "stdout",
     "output_type": "stream",
     "text": [
      "[[ 0.90470978 -0.71695084  0.1472858   0.09443497]\n",
      " [ 0.91643018  0.48656892 -0.51925846 -0.04505896]\n",
      " [-0.07455839 -0.48482815  0.40704756 -0.39300479]]\n"
     ]
    }
   ],
   "source": [
    "# random.uniform(low, hight, size) # 均匀分布\n",
    "# 在取值数量足够多的情况下，每个元素出现的概率会趋近相同\n",
    "# 使用random.uniform函数创建一个取值在[-1,1]之间，尺寸为（3，4）的Ndarray对象\n",
    "arr = np.random.uniform(-1,1,size=(3,4))\n",
    "print(arr)"
   ],
   "metadata": {
    "collapsed": false,
    "ExecuteTime": {
     "end_time": "2023-08-22T02:46:12.982042500Z",
     "start_time": "2023-08-22T02:46:12.961648800Z"
    }
   },
   "id": "f43c823d8d632073"
  },
  {
   "cell_type": "markdown",
   "source": [
    "### 3. 等比/差数列"
   ],
   "metadata": {
    "collapsed": false
   },
   "id": "13768d0abe899887"
  },
  {
   "cell_type": "code",
   "execution_count": 58,
   "outputs": [
    {
     "name": "stdout",
     "output_type": "stream",
     "text": [
      "[  1.   2.   4.   8.  16.  32.  64. 128.]\n"
     ]
    }
   ],
   "source": [
    "# logspace(start, stop, num, base)\n",
    "# start和stop代表是base的幂次\n",
    "# 当前案例取值范围为[2^0,2^7]，也就是[1,128]\n",
    "# 从中等比的取出8个元素\n",
    "# base默认为10\n",
    "arr = np.logspace(0,7,8,base=2)\n",
    "print(arr)"
   ],
   "metadata": {
    "collapsed": false,
    "ExecuteTime": {
     "end_time": "2023-08-22T02:48:12.994952300Z",
     "start_time": "2023-08-22T02:48:12.985303600Z"
    }
   },
   "id": "f8e488864103e394"
  },
  {
   "cell_type": "code",
   "execution_count": 60,
   "outputs": [
    {
     "name": "stdout",
     "output_type": "stream",
     "text": [
      "[1.e+00 1.e+01 1.e+02 1.e+03 1.e+04 1.e+05 1.e+06 1.e+07 1.e+08 1.e+09\n",
      " 1.e+10]\n"
     ]
    }
   ],
   "source": [
    "# 从[10^0,10^10]中等比的取出11个元素，也就是[1,10,100,...,10^10]\n",
    "arr = np.logspace(0,10,11)\n",
    "print(arr)"
   ],
   "metadata": {
    "collapsed": false,
    "ExecuteTime": {
     "end_time": "2023-08-22T02:51:57.816846100Z",
     "start_time": "2023-08-22T02:51:57.752948900Z"
    }
   },
   "id": "bbe26a27d79db716"
  },
  {
   "cell_type": "code",
   "execution_count": 64,
   "outputs": [
    {
     "name": "stdout",
     "output_type": "stream",
     "text": [
      "[ 0.  1.  2.  3.  4.  5.  6.  7.  8.  9. 10.]\n"
     ]
    }
   ],
   "source": [
    "# linespace(start, stop, num, endpoint)\n",
    "# 从[0,10]区间中等差取出11个元素\n",
    "arr = np.linspace(0,10,11)\n",
    "print(arr)"
   ],
   "metadata": {
    "collapsed": false,
    "ExecuteTime": {
     "end_time": "2023-08-22T02:58:33.979206900Z",
     "start_time": "2023-08-22T02:58:33.949392800Z"
    }
   },
   "id": "85293bd7398dd38d"
  },
  {
   "cell_type": "code",
   "execution_count": 66,
   "outputs": [
    {
     "name": "stdout",
     "output_type": "stream",
     "text": [
      "[0.         0.90909091 1.81818182 2.72727273 3.63636364 4.54545455\n",
      " 5.45454545 6.36363636 7.27272727 8.18181818 9.09090909]\n"
     ]
    }
   ],
   "source": [
    "# linespace(start, stop, num, endpoint)\n",
    "# 从[0,10)区间中等差取出11个元素\n",
    "# endpoint表示不包含最后一个元素\n",
    "arr = np.linspace(0,10,11,endpoint=False) \n",
    "print(arr)"
   ],
   "metadata": {
    "collapsed": false,
    "ExecuteTime": {
     "end_time": "2023-08-22T02:59:54.629078500Z",
     "start_time": "2023-08-22T02:59:54.599153Z"
    }
   },
   "id": "3c3c9a8e1a5199b8"
  },
  {
   "cell_type": "code",
   "execution_count": 128,
   "outputs": [
    {
     "name": "stdout",
     "output_type": "stream",
     "text": [
      "float64\n",
      "int32\n"
     ]
    }
   ],
   "source": [
    "# astype 类型转换\n",
    "zeros1 = np.zeros((3,4))\n",
    "print(zeros1.dtype)\n",
    "zeros2 = zeros1.astype(np.int32)\n",
    "print(zeros2.dtype)"
   ],
   "metadata": {
    "collapsed": false,
    "ExecuteTime": {
     "end_time": "2023-08-22T05:29:19.006171200Z",
     "start_time": "2023-08-22T05:29:18.991504300Z"
    }
   },
   "id": "ca726963d6a14987"
  },
  {
   "cell_type": "markdown",
   "source": [
    "### 4. 内置函数"
   ],
   "metadata": {
    "collapsed": false
   },
   "id": "11b3b71363102618"
  },
  {
   "cell_type": "code",
   "execution_count": 67,
   "outputs": [],
   "source": [
    "# np.ceil()     # 向上取整\n",
    "# np.floor()    # 向下取整\n",
    "# np.rint()     # 四舍五入\n",
    "# np.isnan()    # 是否为空\n",
    "# np.multiply() # 元素相乘\n",
    "# np.divide()   # 元素相除\n",
    "# np.abs()      # 取绝对值\n",
    "# np.where()    # 三目运算符"
   ],
   "metadata": {
    "collapsed": false,
    "ExecuteTime": {
     "end_time": "2023-08-22T03:02:27.907461600Z",
     "start_time": "2023-08-22T03:02:27.891426800Z"
    }
   },
   "id": "aac5f0e4b3e26cab"
  },
  {
   "cell_type": "code",
   "execution_count": 83,
   "outputs": [
    {
     "name": "stdout",
     "output_type": "stream",
     "text": [
      "[[ 1.7387864   0.21552634  0.01167621 -1.33103803]\n",
      " [-0.15434126 -1.49543689  0.81487399 -1.99554259]\n",
      " [ 0.1075364   2.72180515 -0.02743895  1.3434261 ]]\n"
     ]
    }
   ],
   "source": [
    "# randn和rand的区别在于randn是服从正太分布的\n",
    "# 平均值为0，标准差为1\n",
    "arr = np.random.randn(3,4)\n",
    "print(arr)"
   ],
   "metadata": {
    "collapsed": false,
    "ExecuteTime": {
     "end_time": "2023-08-22T03:15:31.092451100Z",
     "start_time": "2023-08-22T03:15:31.083612200Z"
    }
   },
   "id": "3839985d5f1785be"
  },
  {
   "cell_type": "code",
   "execution_count": 74,
   "outputs": [
    {
     "name": "stdout",
     "output_type": "stream",
     "text": [
      "[[1. 1. 1. 1.]\n",
      " [1. 1. 1. 1.]\n",
      " [1. 1. 1. 1.]]\n"
     ]
    }
   ],
   "source": [
    "print(np.ceil(arr))"
   ],
   "metadata": {
    "collapsed": false,
    "ExecuteTime": {
     "end_time": "2023-08-22T03:10:05.080071700Z",
     "start_time": "2023-08-22T03:10:05.045148300Z"
    }
   },
   "id": "367ae631df1bc97e"
  },
  {
   "cell_type": "code",
   "execution_count": 75,
   "outputs": [
    {
     "name": "stdout",
     "output_type": "stream",
     "text": [
      "[[0. 0. 0. 0.]\n",
      " [0. 0. 0. 0.]\n",
      " [0. 0. 0. 0.]]\n"
     ]
    }
   ],
   "source": [
    "print(np.floor(arr))"
   ],
   "metadata": {
    "collapsed": false,
    "ExecuteTime": {
     "end_time": "2023-08-22T03:10:13.040435400Z",
     "start_time": "2023-08-22T03:10:13.013336200Z"
    }
   },
   "id": "4bd75b02adb03262"
  },
  {
   "cell_type": "code",
   "execution_count": 77,
   "outputs": [
    {
     "name": "stdout",
     "output_type": "stream",
     "text": [
      "[[1. 0. 0. 1.]\n",
      " [0. 1. 1. 0.]\n",
      " [0. 0. 0. 0.]]\n"
     ]
    }
   ],
   "source": [
    "print(np.rint(arr)) # "
   ],
   "metadata": {
    "collapsed": false,
    "ExecuteTime": {
     "end_time": "2023-08-22T03:10:16.443402600Z",
     "start_time": "2023-08-22T03:10:16.415912700Z"
    }
   },
   "id": "610b0fcf0866bfc2"
  },
  {
   "cell_type": "code",
   "execution_count": 79,
   "outputs": [
    {
     "name": "stdout",
     "output_type": "stream",
     "text": [
      "[[False False False False]\n",
      " [False False False False]\n",
      " [False False False False]]\n"
     ]
    }
   ],
   "source": [
    "print(np.isnan(arr)) # 都不为空，都是False"
   ],
   "metadata": {
    "collapsed": false,
    "ExecuteTime": {
     "end_time": "2023-08-22T03:13:54.237225Z",
     "start_time": "2023-08-22T03:13:54.200681500Z"
    }
   },
   "id": "10f6f1452bdaa677"
  },
  {
   "cell_type": "code",
   "execution_count": 81,
   "outputs": [
    {
     "data": {
      "text/plain": "array([[2.52530856e-01, 7.84625222e-02, 6.95888877e-04, 3.13761941e-01],\n       [4.98143595e-02, 9.52324097e-01, 5.12084634e-01, 1.03128412e-01],\n       [1.72294162e-01, 1.51219838e-02, 5.20106329e-02, 2.41213489e-01]])"
     },
     "execution_count": 81,
     "metadata": {},
     "output_type": "execute_result"
    }
   ],
   "source": [
    "print(np.multiply(arr, arr))"
   ],
   "metadata": {
    "collapsed": false,
    "ExecuteTime": {
     "end_time": "2023-08-22T03:14:25.548720100Z",
     "start_time": "2023-08-22T03:14:25.511876700Z"
    }
   },
   "id": "cc9344b6135d1074"
  },
  {
   "cell_type": "code",
   "execution_count": 85,
   "outputs": [
    {
     "name": "stdout",
     "output_type": "stream",
     "text": [
      "[[1. 1. 1. 1.]\n",
      " [1. 1. 1. 1.]\n",
      " [1. 1. 1. 1.]]\n"
     ]
    }
   ],
   "source": [
    "print(np.divide(arr, arr)) # 对位相除"
   ],
   "metadata": {
    "collapsed": false,
    "ExecuteTime": {
     "end_time": "2023-08-22T03:16:34.287473800Z",
     "start_time": "2023-08-22T03:16:34.256009500Z"
    }
   },
   "id": "1d7cc488e2d8977f"
  },
  {
   "cell_type": "code",
   "execution_count": 87,
   "outputs": [
    {
     "name": "stdout",
     "output_type": "stream",
     "text": [
      "[[1.7387864  0.21552634 0.01167621 1.33103803]\n",
      " [0.15434126 1.49543689 0.81487399 1.99554259]\n",
      " [0.1075364  2.72180515 0.02743895 1.3434261 ]]\n"
     ]
    }
   ],
   "source": [
    "print(np.abs(arr))"
   ],
   "metadata": {
    "collapsed": false,
    "ExecuteTime": {
     "end_time": "2023-08-22T03:16:45.151740Z",
     "start_time": "2023-08-22T03:16:45.099750100Z"
    }
   },
   "id": "8842ce603ae698b8"
  },
  {
   "cell_type": "code",
   "execution_count": 89,
   "outputs": [
    {
     "name": "stdout",
     "output_type": "stream",
     "text": [
      "[[ True  True  True False]\n",
      " [False False  True False]\n",
      " [ True  True False  True]]\n"
     ]
    }
   ],
   "source": [
    "print(np.where(arr>0,True,False))"
   ],
   "metadata": {
    "collapsed": false,
    "ExecuteTime": {
     "end_time": "2023-08-22T03:22:26.997132800Z",
     "start_time": "2023-08-22T03:22:26.959554200Z"
    }
   },
   "id": "d944cbcc317bb1e4"
  },
  {
   "cell_type": "code",
   "execution_count": 90,
   "outputs": [],
   "source": [
    "# np.mean()     # 所有元素平均值\n",
    "# np.sum()      # 所有元素的和\n",
    "# np.max()      # 所有元素中的最大值\n",
    "# np.min()      # 所有元素中的最小值\n",
    "# np.std()      # 所有元素的标准差\n",
    "# np.var()      # 所有元素的方差\n",
    "# np.cumsum()   # 返回数组，每个元素都是前几个元素的累加\n",
    "# np.cumprod()  # 返回数组，每个元素都是前几个元素的累乘\n"
   ],
   "metadata": {
    "collapsed": false,
    "ExecuteTime": {
     "end_time": "2023-08-22T03:24:38.876005Z",
     "start_time": "2023-08-22T03:24:38.818064200Z"
    }
   },
   "id": "60dad7d6b7f6cf6"
  },
  {
   "cell_type": "code",
   "execution_count": 92,
   "outputs": [
    {
     "name": "stdout",
     "output_type": "stream",
     "text": [
      "0.16248607147827085\n"
     ]
    }
   ],
   "source": [
    "print(np.mean(arr))"
   ],
   "metadata": {
    "collapsed": false,
    "ExecuteTime": {
     "end_time": "2023-08-22T03:24:52.788590100Z",
     "start_time": "2023-08-22T03:24:52.721468100Z"
    }
   },
   "id": "b02997ea8684e25c"
  },
  {
   "cell_type": "code",
   "execution_count": 93,
   "outputs": [
    {
     "name": "stdout",
     "output_type": "stream",
     "text": [
      "1.94983285773925\n"
     ]
    }
   ],
   "source": [
    "print(np.sum(arr))"
   ],
   "metadata": {
    "collapsed": false,
    "ExecuteTime": {
     "end_time": "2023-08-22T03:24:58.715898700Z",
     "start_time": "2023-08-22T03:24:58.683641100Z"
    }
   },
   "id": "17b68fccf6e35573"
  },
  {
   "cell_type": "code",
   "execution_count": 94,
   "outputs": [
    {
     "name": "stdout",
     "output_type": "stream",
     "text": [
      "2.721805145833712\n"
     ]
    }
   ],
   "source": [
    "print(np.max(arr))"
   ],
   "metadata": {
    "collapsed": false,
    "ExecuteTime": {
     "end_time": "2023-08-22T03:25:07.170128200Z",
     "start_time": "2023-08-22T03:25:07.146674400Z"
    }
   },
   "id": "d8ad9f508b4a98f6"
  },
  {
   "cell_type": "code",
   "execution_count": 95,
   "outputs": [
    {
     "name": "stdout",
     "output_type": "stream",
     "text": [
      "-1.995542592774182\n"
     ]
    }
   ],
   "source": [
    "print(np.min(arr))"
   ],
   "metadata": {
    "collapsed": false,
    "ExecuteTime": {
     "end_time": "2023-08-22T03:25:12.199515900Z",
     "start_time": "2023-08-22T03:25:12.124013400Z"
    }
   },
   "id": "a25c0291f3726f9f"
  },
  {
   "cell_type": "code",
   "execution_count": 96,
   "outputs": [
    {
     "name": "stdout",
     "output_type": "stream",
     "text": [
      "1.312011945436658\n"
     ]
    }
   ],
   "source": [
    "print(np.std(arr))"
   ],
   "metadata": {
    "collapsed": false,
    "ExecuteTime": {
     "end_time": "2023-08-22T03:25:20.818074700Z",
     "start_time": "2023-08-22T03:25:20.777318800Z"
    }
   },
   "id": "27e7441a8593e73f"
  },
  {
   "cell_type": "code",
   "execution_count": 108,
   "outputs": [
    {
     "name": "stdout",
     "output_type": "stream",
     "text": [
      "1.7213753449684839\n",
      "[0.70149876 2.99932878 0.15068308 2.08255963]\n",
      "[1.18520942 1.22587634 1.2323491 ]\n"
     ]
    }
   ],
   "source": [
    "print(np.var(arr))\n",
    "print(np.var(arr,axis=0))\n",
    "print(np.var(arr,axis=1))"
   ],
   "metadata": {
    "collapsed": false,
    "ExecuteTime": {
     "end_time": "2023-08-22T03:33:42.279076900Z",
     "start_time": "2023-08-22T03:33:42.272067800Z"
    }
   },
   "id": "42eedacd39cf9d14"
  },
  {
   "cell_type": "code",
   "execution_count": 104,
   "outputs": [
    {
     "name": "stdout",
     "output_type": "stream",
     "text": [
      "[[ 1.7387864   0.21552634  0.01167621 -1.33103803]\n",
      " [-0.15434126 -1.49543689  0.81487399 -1.99554259]\n",
      " [ 0.1075364   2.72180515 -0.02743895  1.3434261 ]] \n",
      "\n",
      "[ 1.7387864   1.95431274  1.96598895  0.63495092  0.48060965 -1.01482724\n",
      " -0.19995325 -2.19549584 -2.08795945  0.6338457   0.60640675  1.94983286] \n",
      "\n",
      "[[ 1.7387864   0.21552634  0.01167621 -1.33103803]\n",
      " [ 1.58444514 -1.27991055  0.82655019 -3.32658062]\n",
      " [ 1.69198154  1.44189459  0.79911124 -1.98315452]] \n"
     ]
    }
   ],
   "source": [
    "print(arr,'\\n')\n",
    "# 每列元素都是前几列元素的和\n",
    "print(np.cumsum(arr),'\\n')\n",
    "\n",
    "# 每行元素都是前几行元素的和\n",
    "print(np.cumsum(arr,axis=0),'\\n')"
   ],
   "metadata": {
    "collapsed": false,
    "ExecuteTime": {
     "end_time": "2023-08-22T03:28:26.225589Z",
     "start_time": "2023-08-22T03:28:26.221058500Z"
    }
   },
   "id": "30930e81d3e769d5"
  },
  {
   "cell_type": "code",
   "execution_count": 106,
   "outputs": [
    {
     "name": "stdout",
     "output_type": "stream",
     "text": [
      "[[ 1.7387864   0.21552634  0.01167621 -1.33103803]\n",
      " [-0.15434126 -1.49543689  0.81487399 -1.99554259]\n",
      " [ 0.1075364   2.72180515 -0.02743895  1.3434261 ]] \n",
      "\n",
      "[ 1.73878640e+00  3.74754268e-01  4.37570773e-03 -5.82423339e-03\n",
      "  8.98919546e-04 -1.34427745e-03 -1.09541672e-03  2.18595073e-03\n",
      "  2.35069262e-04  6.39812728e-04 -1.75557867e-05 -2.35849022e-05] \n",
      "\n",
      "[[ 1.73878640e+00  2.15526339e-01  1.16762052e-02 -1.33103803e+00]\n",
      " [-2.68366492e-01 -3.22306038e-01  9.51463587e-03  2.65614308e+00]\n",
      " [-2.88591653e-02 -8.77254233e-01 -2.61071578e-04  3.56833195e+00]] \n"
     ]
    }
   ],
   "source": [
    "print(arr,'\\n')\n",
    "print(np.cumprod(arr),'\\n')\n",
    "print(np.cumprod(arr,axis=0),'\\n')"
   ],
   "metadata": {
    "collapsed": false,
    "ExecuteTime": {
     "end_time": "2023-08-22T03:29:13.437002500Z",
     "start_time": "2023-08-22T03:29:13.421217900Z"
    }
   },
   "id": "7c64a8873eacb411"
  },
  {
   "cell_type": "markdown",
   "source": [
    "### 5. 比较/去重/排序"
   ],
   "metadata": {
    "collapsed": false
   },
   "id": "dd22950b1f72d777"
  },
  {
   "cell_type": "code",
   "execution_count": 111,
   "outputs": [
    {
     "name": "stdout",
     "output_type": "stream",
     "text": [
      "[[-0.34448949  0.28556633  0.00612457]\n",
      " [-0.47795757  1.00060211  0.91807622]]\n"
     ]
    }
   ],
   "source": [
    "arr = np.random.randn(2,3)\n",
    "print(arr)"
   ],
   "metadata": {
    "collapsed": false,
    "ExecuteTime": {
     "end_time": "2023-08-22T05:22:48.199185300Z",
     "start_time": "2023-08-22T05:22:48.179918100Z"
    }
   },
   "id": "1197dc51eb6f58d9"
  },
  {
   "cell_type": "code",
   "execution_count": 113,
   "outputs": [
    {
     "data": {
      "text/plain": "True"
     },
     "execution_count": 113,
     "metadata": {},
     "output_type": "execute_result"
    }
   ],
   "source": [
    "np.any(arr>0.8)"
   ],
   "metadata": {
    "collapsed": false,
    "ExecuteTime": {
     "end_time": "2023-08-22T05:23:13.831942700Z",
     "start_time": "2023-08-22T05:23:13.793084800Z"
    }
   },
   "id": "7ad85549ee1ccaab"
  },
  {
   "cell_type": "code",
   "execution_count": 115,
   "outputs": [
    {
     "data": {
      "text/plain": "False"
     },
     "execution_count": 115,
     "metadata": {},
     "output_type": "execute_result"
    }
   ],
   "source": [
    "np.all(arr>0.8)"
   ],
   "metadata": {
    "collapsed": false,
    "ExecuteTime": {
     "end_time": "2023-08-22T05:23:22.538211700Z",
     "start_time": "2023-08-22T05:23:22.465548500Z"
    }
   },
   "id": "749a37be17c5f465"
  },
  {
   "cell_type": "code",
   "execution_count": 117,
   "outputs": [
    {
     "name": "stdout",
     "output_type": "stream",
     "text": [
      "[[1 2 1]\n",
      " [2 3 4]]\n"
     ]
    }
   ],
   "source": [
    "arr = np.array([[1,2,1],[2,3,4]])\n",
    "print(arr)"
   ],
   "metadata": {
    "collapsed": false,
    "ExecuteTime": {
     "end_time": "2023-08-22T05:24:06.450985200Z",
     "start_time": "2023-08-22T05:24:06.414262200Z"
    }
   },
   "id": "7b94fef5403d0c5b"
  },
  {
   "cell_type": "code",
   "execution_count": 121,
   "outputs": [
    {
     "data": {
      "text/plain": "array([1, 2, 3, 4])"
     },
     "execution_count": 121,
     "metadata": {},
     "output_type": "execute_result"
    }
   ],
   "source": [
    "np.unique(arr)"
   ],
   "metadata": {
    "collapsed": false,
    "ExecuteTime": {
     "end_time": "2023-08-22T05:24:25.549915500Z",
     "start_time": "2023-08-22T05:24:25.492821700Z"
    }
   },
   "id": "e5256a1d5d9945bd"
  },
  {
   "cell_type": "code",
   "execution_count": 124,
   "outputs": [
    {
     "name": "stdout",
     "output_type": "stream",
     "text": [
      "[[1 1 2]\n",
      " [2 3 4]]\n",
      "[[1 2 1]\n",
      " [2 3 4]]\n"
     ]
    }
   ],
   "source": [
    "print(np.sort(arr)) # 返回一个新数组\n",
    "print(arr)          # 不修改原值"
   ],
   "metadata": {
    "collapsed": false,
    "ExecuteTime": {
     "end_time": "2023-08-22T05:25:27.717768500Z",
     "start_time": "2023-08-22T05:25:27.686783100Z"
    }
   },
   "id": "f622b416b422e771"
  },
  {
   "cell_type": "code",
   "execution_count": 125,
   "outputs": [
    {
     "name": "stdout",
     "output_type": "stream",
     "text": [
      "[[1 1 2]\n",
      " [2 3 4]]\n"
     ]
    }
   ],
   "source": [
    "arr.sort() # 直接修改原值\n",
    "print(arr)"
   ],
   "metadata": {
    "collapsed": false,
    "ExecuteTime": {
     "end_time": "2023-08-22T05:25:39.346482500Z",
     "start_time": "2023-08-22T05:25:39.311215600Z"
    }
   },
   "id": "ae1355e2694c2c17"
  },
  {
   "cell_type": "markdown",
   "source": [
    "### 6. 数学运算"
   ],
   "metadata": {
    "collapsed": false
   },
   "id": "336db48675f6be57"
  },
  {
   "cell_type": "code",
   "execution_count": 144,
   "outputs": [],
   "source": [
    "arr = np.array([2,3,4,5])\n",
    "brr = np.arange(4)"
   ],
   "metadata": {
    "collapsed": false,
    "ExecuteTime": {
     "end_time": "2023-08-22T05:37:34.078773700Z",
     "start_time": "2023-08-22T05:37:34.072803Z"
    }
   },
   "id": "8ad389e821dd65e8"
  },
  {
   "cell_type": "code",
   "execution_count": 145,
   "outputs": [
    {
     "name": "stdout",
     "output_type": "stream",
     "text": [
      "[2 2 2 2]\n",
      "[2 4 6 8]\n"
     ]
    }
   ],
   "source": [
    "# +/-\n",
    "print(arr-brr)\n",
    "print(arr+brr)"
   ],
   "metadata": {
    "collapsed": false,
    "ExecuteTime": {
     "end_time": "2023-08-22T05:37:37.284622400Z",
     "start_time": "2023-08-22T05:37:37.259331400Z"
    }
   },
   "id": "f37f05878e6bffc3"
  },
  {
   "cell_type": "code",
   "execution_count": 146,
   "outputs": [
    {
     "data": {
      "text/plain": "array([3, 4, 5, 6])"
     },
     "execution_count": 146,
     "metadata": {},
     "output_type": "execute_result"
    }
   ],
   "source": [
    "brr = arr+1 # 每个元素都加1\n",
    "brr"
   ],
   "metadata": {
    "collapsed": false,
    "ExecuteTime": {
     "end_time": "2023-08-22T05:37:40.507007400Z",
     "start_time": "2023-08-22T05:37:40.478673500Z"
    }
   },
   "id": "8148b41407fc356a"
  },
  {
   "cell_type": "code",
   "execution_count": null,
   "outputs": [],
   "source": [],
   "metadata": {
    "collapsed": false
   },
   "id": "291426913cf56cc1"
  },
  {
   "cell_type": "code",
   "execution_count": 141,
   "outputs": [
    {
     "data": {
      "text/plain": "array([[ 8,  5],\n       [20, 13]])"
     },
     "execution_count": 141,
     "metadata": {},
     "output_type": "execute_result"
    }
   ],
   "source": [
    "# 点乘\n",
    "arr = np.array([[1,2],[3,4]])\n",
    "brr = np.array([[4,3],[2,1]])\n",
    "arr.dot(brr) # 矩阵乘法，不同于np.multiply"
   ],
   "metadata": {
    "collapsed": false,
    "ExecuteTime": {
     "end_time": "2023-08-22T05:36:23.431335300Z",
     "start_time": "2023-08-22T05:36:23.388842200Z"
    }
   },
   "id": "36e2ee45a93c166c"
  },
  {
   "cell_type": "code",
   "execution_count": null,
   "outputs": [],
   "source": [],
   "metadata": {
    "collapsed": false
   },
   "id": "24f2c0b38e6d86fb"
  }
 ],
 "metadata": {
  "kernelspec": {
   "display_name": "Python 3",
   "language": "python",
   "name": "python3"
  },
  "language_info": {
   "codemirror_mode": {
    "name": "ipython",
    "version": 2
   },
   "file_extension": ".py",
   "mimetype": "text/x-python",
   "name": "python",
   "nbconvert_exporter": "python",
   "pygments_lexer": "ipython2",
   "version": "2.7.6"
  }
 },
 "nbformat": 4,
 "nbformat_minor": 5
}
